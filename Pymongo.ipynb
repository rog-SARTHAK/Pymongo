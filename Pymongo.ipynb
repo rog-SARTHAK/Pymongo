{
 "cells": [
  {
   "cell_type": "markdown",
   "id": "9a56a7ed",
   "metadata": {},
   "source": [
    "### Connect MongoDB with Pyhton"
   ]
  },
  {
   "cell_type": "code",
   "execution_count": 1,
   "id": "657e06f7",
   "metadata": {},
   "outputs": [
    {
     "name": "stdout",
     "output_type": "stream",
     "text": [
      "Collecting pymongo\n",
      "  Obtaining dependency information for pymongo from https://files.pythonhosted.org/packages/50/16/d5b3e2d5d23e81bfd0a1bc04a038f7075992ebffa361f789880a155a2c61/pymongo-4.6.0-cp311-cp311-win_amd64.whl.metadata\n",
      "  Downloading pymongo-4.6.0-cp311-cp311-win_amd64.whl.metadata (22 kB)\n",
      "Collecting dnspython<3.0.0,>=1.16.0 (from pymongo)\n",
      "  Obtaining dependency information for dnspython<3.0.0,>=1.16.0 from https://files.pythonhosted.org/packages/f6/b4/0a9bee52c50f226a3cbfb54263d02bb421c7f2adc136520729c2c689c1e5/dnspython-2.4.2-py3-none-any.whl.metadata\n",
      "  Downloading dnspython-2.4.2-py3-none-any.whl.metadata (4.9 kB)\n",
      "Downloading pymongo-4.6.0-cp311-cp311-win_amd64.whl (472 kB)\n",
      "   ---------------------------------------- 0.0/472.7 kB ? eta -:--:--\n",
      "   -- ------------------------------------ 30.7/472.7 kB 640.0 kB/s eta 0:00:01\n",
      "   --------------------- ------------------ 256.0/472.7 kB 3.1 MB/s eta 0:00:01\n",
      "   ---------------------------------------- 472.7/472.7 kB 4.9 MB/s eta 0:00:00\n",
      "Downloading dnspython-2.4.2-py3-none-any.whl (300 kB)\n",
      "   ---------------------------------------- 0.0/300.4 kB ? eta -:--:--\n",
      "   --------------------------------------- 300.4/300.4 kB 18.1 MB/s eta 0:00:00\n",
      "Installing collected packages: dnspython, pymongo\n",
      "Successfully installed dnspython-2.4.2 pymongo-4.6.0\n"
     ]
    }
   ],
   "source": [
    "!pip install pymongo"
   ]
  },
  {
   "cell_type": "code",
   "execution_count": 15,
   "id": "f323db5f",
   "metadata": {},
   "outputs": [],
   "source": [
    "from pymongo import MongoClient"
   ]
  },
  {
   "cell_type": "code",
   "execution_count": 3,
   "id": "10cf40ca",
   "metadata": {},
   "outputs": [],
   "source": [
    "client = MongoClient(\"localhost\", 27017)"
   ]
  },
  {
   "cell_type": "code",
   "execution_count": 4,
   "id": "d859a75e",
   "metadata": {},
   "outputs": [],
   "source": [
    "db = client.school #school is the name of a database"
   ]
  },
  {
   "cell_type": "code",
   "execution_count": 11,
   "id": "4410f209",
   "metadata": {},
   "outputs": [],
   "source": [
    "students = db.students #students is the name of a collection inside school database"
   ]
  },
  {
   "cell_type": "code",
   "execution_count": 12,
   "id": "cfa1f52c",
   "metadata": {},
   "outputs": [
    {
     "name": "stdout",
     "output_type": "stream",
     "text": [
      "{'_id': ObjectId('6553067c93ce2d20cc82069f'), 'name': 'Larry', 'age': 32, 'gpa': 2.8, 'fullTime': False, 'registerDate': datetime.datetime(2023, 11, 14, 5, 32, 44, 806000), 'graduationDate': None, 'courses': ['Biology', 'Chemistry', 'Calculus'], 'address': {'street': '2381 N 4th Ave', 'city': 'Tucson', 'zip': 85705}, 'fulltime': False}\n",
      "{'_id': ObjectId('6553118993ce2d20cc8206a4'), 'name': 'Spongebob', 'gpa': 3.5, 'fulltime': False}\n",
      "{'_id': ObjectId('6553118993ce2d20cc8206a5'), 'name': 'Patrick', 'age': 38, 'gpa': 1.5, 'fulltime': False}\n",
      "{'_id': ObjectId('6553118993ce2d20cc8206a6'), 'name': 'Sandy', 'age': 27, 'gpa': 4, 'fulltime': True}\n",
      "{'_id': ObjectId('6553118993ce2d20cc8206a7'), 'name': 'Gary', 'age': 18, 'gpa': 2.5, 'fulltime': True}\n"
     ]
    }
   ],
   "source": [
    "for name in students.find():\n",
    "    print(name)"
   ]
  },
  {
   "cell_type": "markdown",
   "id": "b18bff0e",
   "metadata": {},
   "source": [
    "We printed the document objects inside collection"
   ]
  },
  {
   "cell_type": "code",
   "execution_count": 17,
   "id": "257d44d1",
   "metadata": {},
   "outputs": [
    {
     "data": {
      "text/plain": [
       "InsertOneResult(ObjectId('655aad267ec26e5aa5d4b8c5'), acknowledged=True)"
      ]
     },
     "execution_count": 17,
     "metadata": {},
     "output_type": "execute_result"
    }
   ],
   "source": [
    "#inserting a new document\n",
    "students.insert_one({\"name\": \"Squidward\", \"gpa\": 3.6, \"courses\": ['SQL', 'BI', 'ETL', 'BI', 'Cloud'], \"fulltime\": False})"
   ]
  },
  {
   "cell_type": "code",
   "execution_count": 18,
   "id": "7ddb5e1c",
   "metadata": {},
   "outputs": [
    {
     "name": "stdout",
     "output_type": "stream",
     "text": [
      "{'_id': ObjectId('6553067c93ce2d20cc82069f'), 'name': 'Larry', 'age': 32, 'gpa': 2.8, 'fullTime': False, 'registerDate': datetime.datetime(2023, 11, 14, 5, 32, 44, 806000), 'graduationDate': None, 'courses': ['Biology', 'Chemistry', 'Calculus'], 'address': {'street': '2381 N 4th Ave', 'city': 'Tucson', 'zip': 85705}, 'fulltime': False}\n",
      "{'_id': ObjectId('6553118993ce2d20cc8206a4'), 'name': 'Spongebob', 'gpa': 3.5, 'fulltime': False}\n",
      "{'_id': ObjectId('6553118993ce2d20cc8206a5'), 'name': 'Patrick', 'age': 38, 'gpa': 1.5, 'fulltime': False}\n",
      "{'_id': ObjectId('6553118993ce2d20cc8206a6'), 'name': 'Sandy', 'age': 27, 'gpa': 4, 'fulltime': True}\n",
      "{'_id': ObjectId('6553118993ce2d20cc8206a7'), 'name': 'Gary', 'age': 18, 'gpa': 2.5, 'fulltime': True}\n",
      "{'_id': ObjectId('655aad267ec26e5aa5d4b8c5'), 'name': 'Squidward', 'gpa': 3.6, 'courses': ['SQL', 'BI', 'ETL', 'BI', 'Cloud'], 'fulltime': False}\n"
     ]
    }
   ],
   "source": [
    "for name in students.find():\n",
    "    print(name)"
   ]
  },
  {
   "cell_type": "code",
   "execution_count": null,
   "id": "8c710b5d",
   "metadata": {},
   "outputs": [],
   "source": []
  }
 ],
 "metadata": {
  "kernelspec": {
   "display_name": "Python 3 (ipykernel)",
   "language": "python",
   "name": "python3"
  },
  "language_info": {
   "codemirror_mode": {
    "name": "ipython",
    "version": 3
   },
   "file_extension": ".py",
   "mimetype": "text/x-python",
   "name": "python",
   "nbconvert_exporter": "python",
   "pygments_lexer": "ipython3",
   "version": "3.11.5"
  }
 },
 "nbformat": 4,
 "nbformat_minor": 5
}
